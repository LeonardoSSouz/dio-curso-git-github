{
  "nbformat": 4,
  "nbformat_minor": 0,
  "metadata": {
    "colab": {
      "provenance": [],
      "collapsed_sections": [
        "kNuP0SDUZMBY"
      ],
      "include_colab_link": true
    },
    "kernelspec": {
      "name": "python3",
      "display_name": "Python 3"
    },
    "language_info": {
      "name": "python"
    }
  },
  "cells": [
    {
      "cell_type": "markdown",
      "metadata": {
        "id": "view-in-github",
        "colab_type": "text"
      },
      "source": [
        "<a href=\"https://colab.research.google.com/github/LeonardoSSouz/dio-curso-git-github/blob/main/C%C3%B3pia_de_SantanderDevWeek2023.ipynb\" target=\"_parent\"><img src=\"https://colab.research.google.com/assets/colab-badge.svg\" alt=\"Open In Colab\"/></a>"
      ]
    },
    {
      "cell_type": "markdown",
      "source": [
        "# Santander Dev Week 2023 (ETL com Python)"
      ],
      "metadata": {
        "id": "BPJQsTCULaC-"
      }
    },
    {
      "cell_type": "code",
      "source": [
        "import pandas as pd\n",
        "from datetime import datetime, timedelta"
      ],
      "metadata": {
        "id": "VwT614UFl8VC"
      },
      "execution_count": 16,
      "outputs": []
    },
    {
      "cell_type": "code",
      "source": [
        "filmes = pd.DataFrame({'Filme_ID': [1, 2, 3, 4],\n",
        "                       'Título': ['Avatar', 'Minha Mãe É Uma Peça', 'Drácula', 'Alien'],\n",
        "                       'genero': ['Ação', 'Comédia', 'Drama', 'Ficção Científica'],\n",
        "                       'Disponível': [True, True, True, True]})\n"
      ],
      "metadata": {
        "id": "jwsDrcY1l-Xv"
      },
      "execution_count": 17,
      "outputs": []
    },
    {
      "cell_type": "code",
      "source": [
        "clientes = pd.DataFrame({'Cliente_ID': [101, 102, 103],\n",
        "                         'Nome': ['João', 'Bispo', 'Fábio']})\n",
        "\n",
        "alugueis = pd.DataFrame(columns=['Aluguel_ID', 'Cliente_ID', 'Filme_ID', 'Data_Aluguel', 'Data_Devolucao'])"
      ],
      "metadata": {
        "id": "rIbezfrfmHcZ"
      },
      "execution_count": 18,
      "outputs": []
    },
    {
      "cell_type": "code",
      "source": [
        "def alugar_filme(cliente_id, filme_id, data_coleta, dias_aluguel):\n",
        "    if filmes.loc[filmes['Filme_ID'] == filme_id, 'Disponível'].bool():\n",
        "        aluguel_id = len(alugueis) + 1\n",
        "        data_aluguel = datetime.now()\n",
        "        data_devolucao = data_coleta + timedelta(days=dias_aluguel)\n",
        "        alugueis.loc[len(alugueis)] = [aluguel_id, cliente_id, filme_id, data_aluguel, data_devolucao]\n",
        "        filmes.loc[filmes['Filme_ID'] == filme_id, 'Disponível'] = False\n",
        "        print(f'Filme {filme_id} alugado por {dias_aluguel} dias para Cliente {cliente_id}')\n",
        "    else:\n",
        "        print(f'Filme {filme_id} não está disponível para aluguel.')"
      ],
      "metadata": {
        "id": "D6b2jSJ7mIeT"
      },
      "execution_count": 19,
      "outputs": []
    },
    {
      "cell_type": "code",
      "source": [
        "def devolver_filme(aluguel_id):\n",
        "    if alugueis['Aluguel_ID'].isin([aluguel_id]).any():\n",
        "        index = alugueis[alugueis['Aluguel_ID'] == aluguel_id].index[0]\n",
        "        filmes.loc[filmes['Filme_ID'] == alugueis.loc[index, 'Filme_ID'], 'Disponível'] = True\n",
        "        alugueis.loc[index, 'Data_Devolucao'] = datetime.now()\n",
        "        print(f'Filme {alugueis.loc[index, \"Filme_ID\"]} devolvido por Cliente {alugueis.loc[index, \"Cliente_ID\"]}')\n",
        "    else:\n",
        "        print(f'Aluguel ID {aluguel_id} não encontrado.')"
      ],
      "metadata": {
        "id": "tk1GTfNMmK7L"
      },
      "execution_count": 20,
      "outputs": []
    },
    {
      "cell_type": "code",
      "source": [
        "def verificar_disponibilidade(filme_id):\n",
        "    disponibilidade = filmes.loc[filmes['Filme_ID'] == filme_id, 'Disponível'].bool()\n",
        "    if disponibilidade:\n",
        "        print(f'Filme {filme_id} está disponível para aluguel.')\n",
        "    else:\n",
        "        print(f'Filme {filme_id} não está disponível para aluguel.')"
      ],
      "metadata": {
        "id": "qeGnU-f6mQ-e"
      },
      "execution_count": 21,
      "outputs": []
    },
    {
      "cell_type": "code",
      "source": [
        "data_coleta = datetime.now() - timedelta(days=3)  # Simula a data de coleta\n",
        "alugar_filme(101, 1, data_coleta, 7)"
      ],
      "metadata": {
        "colab": {
          "base_uri": "https://localhost:8080/"
        },
        "id": "Iezb3CT2mU9g",
        "outputId": "8515e9bf-dc53-4fa1-8906-88260bb6a813"
      },
      "execution_count": 22,
      "outputs": [
        {
          "output_type": "stream",
          "name": "stdout",
          "text": [
            "Filme 1 alugado por 7 dias para Cliente 101\n"
          ]
        }
      ]
    },
    {
      "cell_type": "code",
      "source": [
        "verificar_disponibilidade(1)"
      ],
      "metadata": {
        "colab": {
          "base_uri": "https://localhost:8080/"
        },
        "id": "KxtCHpGXmZXP",
        "outputId": "08183534-3823-4b88-ec5d-f0eb4078cb92"
      },
      "execution_count": 23,
      "outputs": [
        {
          "output_type": "stream",
          "name": "stdout",
          "text": [
            "Filme 1 não está disponível para aluguel.\n"
          ]
        }
      ]
    },
    {
      "cell_type": "code",
      "source": [
        "devolver_filme(1)"
      ],
      "metadata": {
        "colab": {
          "base_uri": "https://localhost:8080/"
        },
        "id": "oceAzmcEmdR2",
        "outputId": "91420215-41ab-4a7c-cb99-79aa6700b81a"
      },
      "execution_count": 24,
      "outputs": [
        {
          "output_type": "stream",
          "name": "stdout",
          "text": [
            "Filme 1 devolvido por Cliente 101\n"
          ]
        }
      ]
    },
    {
      "cell_type": "code",
      "source": [
        "verificar_disponibilidade(1)"
      ],
      "metadata": {
        "colab": {
          "base_uri": "https://localhost:8080/"
        },
        "id": "_WIV8oJCmgOX",
        "outputId": "9ba6f7fb-cd51-479e-cc59-8ed6510ce54e"
      },
      "execution_count": 25,
      "outputs": [
        {
          "output_type": "stream",
          "name": "stdout",
          "text": [
            "Filme 1 está disponível para aluguel.\n"
          ]
        }
      ]
    },
    {
      "cell_type": "code",
      "source": [
        "print(filmes)\n",
        "print(clientes)\n",
        "print(alugueis)"
      ],
      "metadata": {
        "colab": {
          "base_uri": "https://localhost:8080/"
        },
        "id": "B_kEoudkmg9j",
        "outputId": "d1a541a1-ea6c-4c6a-d7dc-3641370049a3"
      },
      "execution_count": 15,
      "outputs": [
        {
          "output_type": "stream",
          "name": "stdout",
          "text": [
            "   Filme_ID                Título             genero  Disponível\n",
            "0         1                Avatar               Ação        True\n",
            "1         2  Minha Mãe É Uma Peça            Comédia        True\n",
            "2         3               Drácula              Drama        True\n",
            "3         4                 Alien  Ficção Científica        True\n",
            "   Cliente_ID   Nome\n",
            "0         101   João\n",
            "1         102  Bispo\n",
            "2         103  Fábio\n",
            "   Aluguel_ID  Cliente_ID  Filme_ID               Data_Aluguel  \\\n",
            "0           1         101         1 2023-09-16 19:58:50.342841   \n",
            "\n",
            "              Data_Devolucao  \n",
            "0 2023-09-16 19:58:50.347622  \n"
          ]
        }
      ]
    }
  ]
}